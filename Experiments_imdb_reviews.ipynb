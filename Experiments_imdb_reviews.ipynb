{
 "cells": [
  {
   "cell_type": "markdown",
   "metadata": {},
   "source": [
    "Start the deeplearning tests"
   ]
  },
  {
   "cell_type": "code",
   "execution_count": 1,
   "metadata": {},
   "outputs": [
    {
     "name": "stderr",
     "output_type": "stream",
     "text": [
      "Using TensorFlow backend.\n"
     ]
    }
   ],
   "source": [
    "from keras.datasets import imdb\n",
    "\n",
    "(train_data, train_labels), (test_data, test_labels) = imdb.load_data(num_words = 1000)"
   ]
  },
  {
   "cell_type": "code",
   "execution_count": 2,
   "metadata": {},
   "outputs": [
    {
     "name": "stdout",
     "output_type": "stream",
     "text": [
      "<class 'numpy.ndarray'>\n"
     ]
    }
   ],
   "source": [
    "print(type(train_data))"
   ]
  },
  {
   "cell_type": "code",
   "execution_count": 3,
   "metadata": {},
   "outputs": [],
   "source": [
    "word_index = imdb.get_word_index()"
   ]
  },
  {
   "cell_type": "code",
   "execution_count": 4,
   "metadata": {},
   "outputs": [],
   "source": [
    "reverse_word_index = dict([(value, key) for (key, value) in word_index.items()])"
   ]
  },
  {
   "cell_type": "code",
   "execution_count": 5,
   "metadata": {},
   "outputs": [],
   "source": [
    "decoded_review = ' '.join([reverse_word_index.get(i - 3, '?') for i in train_data[0]])"
   ]
  },
  {
   "cell_type": "code",
   "execution_count": 6,
   "metadata": {},
   "outputs": [],
   "source": [
    "import numpy as np\n",
    "\n",
    "def vectorize_sequences(sequences, dimension=1000):\n",
    "    results = np.zeros((len(sequences), dimension))\n",
    "    for i, sequence in enumerate(sequences):\n",
    "        results[i, sequence] = 1\n",
    "    return results\n",
    "\n",
    "x_train = vectorize_sequences(train_data)\n",
    "x_test = vectorize_sequences(test_data)"
   ]
  },
  {
   "cell_type": "code",
   "execution_count": 7,
   "metadata": {},
   "outputs": [],
   "source": [
    "y_train = np.asarray(train_labels).astype('float32')\n",
    "y_test = np.asarray(test_labels).astype('float32')"
   ]
  },
  {
   "cell_type": "code",
   "execution_count": 8,
   "metadata": {},
   "outputs": [],
   "source": [
    "from keras import models\n",
    "from keras import layers\n",
    "\n",
    "model = models.Sequential()\n",
    "model.add(layers.Dense(16, activation='relu', input_shape=(1000,)))\n",
    "model.add(layers.Dense(16, activation='relu'))\n",
    "model.add(layers.Dense(1, activation='sigmoid'))\n",
    "\n",
    "model.compile(optimizer='rmsprop', loss='binary_crossentropy', metrics=['accuracy'])\n",
    "\n",
    "x_val = x_train[:10000]\n",
    "partial_x_train = x_train[10000:]\n",
    "y_val = y_train[:10000]\n",
    "partial_y_train = y_train[10000:]"
   ]
  },
  {
   "cell_type": "code",
   "execution_count": 9,
   "metadata": {},
   "outputs": [
    {
     "name": "stdout",
     "output_type": "stream",
     "text": [
      "Train on 15000 samples, validate on 10000 samples\n",
      "Epoch 1/20\n",
      "15000/15000 [==============================] - 1s 34us/step - loss: 0.5756 - acc: 0.7119 - val_loss: 0.4758 - val_acc: 0.7914\n",
      "Epoch 2/20\n",
      "15000/15000 [==============================] - 0s 12us/step - loss: 0.4161 - acc: 0.8307 - val_loss: 0.3862 - val_acc: 0.8419\n",
      "Epoch 3/20\n",
      "15000/15000 [==============================] - 0s 11us/step - loss: 0.3546 - acc: 0.8554 - val_loss: 0.3560 - val_acc: 0.8499\n",
      "Epoch 4/20\n",
      "15000/15000 [==============================] - 0s 12us/step - loss: 0.3301 - acc: 0.8657 - val_loss: 0.3436 - val_acc: 0.8563\n",
      "Epoch 5/20\n",
      "15000/15000 [==============================] - 0s 12us/step - loss: 0.3173 - acc: 0.8678 - val_loss: 0.3372 - val_acc: 0.8615\n",
      "Epoch 6/20\n",
      "15000/15000 [==============================] - 0s 12us/step - loss: 0.3077 - acc: 0.8731 - val_loss: 0.3360 - val_acc: 0.8604\n",
      "Epoch 7/20\n",
      "15000/15000 [==============================] - 0s 13us/step - loss: 0.3028 - acc: 0.8748 - val_loss: 0.3363 - val_acc: 0.8592\n",
      "Epoch 8/20\n",
      "15000/15000 [==============================] - 0s 12us/step - loss: 0.2954 - acc: 0.8793 - val_loss: 0.3582 - val_acc: 0.8483\n",
      "Epoch 9/20\n",
      "15000/15000 [==============================] - 0s 11us/step - loss: 0.2948 - acc: 0.8781 - val_loss: 0.3461 - val_acc: 0.8561\n",
      "Epoch 10/20\n",
      "15000/15000 [==============================] - 0s 11us/step - loss: 0.2903 - acc: 0.8794 - val_loss: 0.3402 - val_acc: 0.8597\n",
      "Epoch 11/20\n",
      "15000/15000 [==============================] - 0s 10us/step - loss: 0.2911 - acc: 0.8803 - val_loss: 0.3503 - val_acc: 0.8547\n",
      "Epoch 12/20\n",
      "15000/15000 [==============================] - 0s 12us/step - loss: 0.2864 - acc: 0.8821 - val_loss: 0.3526 - val_acc: 0.8535\n",
      "Epoch 13/20\n",
      "15000/15000 [==============================] - 0s 13us/step - loss: 0.2805 - acc: 0.8823 - val_loss: 0.3448 - val_acc: 0.8591\n",
      "Epoch 14/20\n",
      "15000/15000 [==============================] - 0s 11us/step - loss: 0.2787 - acc: 0.8853 - val_loss: 0.3681 - val_acc: 0.8518\n",
      "Epoch 15/20\n",
      "15000/15000 [==============================] - 0s 11us/step - loss: 0.2812 - acc: 0.8821 - val_loss: 0.3454 - val_acc: 0.8568\n",
      "Epoch 16/20\n",
      "15000/15000 [==============================] - 0s 11us/step - loss: 0.2746 - acc: 0.8871 - val_loss: 0.3580 - val_acc: 0.8538\n",
      "Epoch 17/20\n",
      "15000/15000 [==============================] - 0s 14us/step - loss: 0.2738 - acc: 0.8857 - val_loss: 0.3465 - val_acc: 0.8566\n",
      "Epoch 18/20\n",
      "15000/15000 [==============================] - 0s 14us/step - loss: 0.2678 - acc: 0.8908 - val_loss: 0.3499 - val_acc: 0.8562\n",
      "Epoch 19/20\n",
      "15000/15000 [==============================] - 0s 14us/step - loss: 0.2668 - acc: 0.8911 - val_loss: 0.3482 - val_acc: 0.8561\n",
      "Epoch 20/20\n",
      "15000/15000 [==============================] - 0s 11us/step - loss: 0.2620 - acc: 0.8905 - val_loss: 0.3537 - val_acc: 0.8532\n"
     ]
    }
   ],
   "source": [
    "history = model.fit(partial_x_train, partial_y_train, epochs=20, batch_size=512, validation_data=(x_val, y_val))"
   ]
  },
  {
   "cell_type": "code",
   "execution_count": 10,
   "metadata": {},
   "outputs": [
    {
     "data": {
      "text/plain": [
       "<Figure size 640x480 with 1 Axes>"
      ]
     },
     "metadata": {},
     "output_type": "display_data"
    }
   ],
   "source": [
    "import matplotlib.pyplot as plt\n",
    "\n",
    "history_dict = history.history\n",
    "loss_values = history_dict['loss']\n",
    "val_loss_values = history_dict['val_loss']\n",
    "acc = history_dict['acc']\n",
    "\n",
    "epochs = range(1, len(acc) + 1)\n",
    "\n",
    "plt.plot(epochs, loss_values, 'bo', label='Training loss')\n",
    "plt.plot(epochs, val_loss_values, 'b', label=\"Validation loss\")\n",
    "plt.title('Taining and validation loss')\n",
    "plt.xlabel('Epochs')\n",
    "plt.ylabel('Loss')\n",
    "plt.legend()\n",
    "\n",
    "plt.show()"
   ]
  },
  {
   "cell_type": "code",
   "execution_count": 11,
   "metadata": {},
   "outputs": [
    {
     "data": {
      "image/png": "[encoded data removed]",
      "text/plain": [
       "<Figure size 432x288 with 1 Axes>"
      ]
     },
     "metadata": {
      "needs_background": "light"
     },
     "output_type": "display_data"
    }
   ],
   "source": [
    "plt.clf()\n",
    "acc_values = history_dict['acc']\n",
    "val_acc_values = history_dict['val_acc']\n",
    "\n",
    "plt.plot(epochs, acc_values, 'bo', label='Training acc.')\n",
    "plt.plot(epochs, val_acc_values, 'b', label='Validation acc.')\n",
    "plt.title('Taining and validation accuracy')\n",
    "plt.xlabel('Epochs')\n",
    "plt.ylabel('Loss')\n",
    "plt.legend()\n",
    "\n",
    "plt.show()"
   ]
  },
  {
   "cell_type": "code",
   "execution_count": 12,
   "metadata": {},
   "outputs": [
    {
     "name": "stdout",
     "output_type": "stream",
     "text": [
      "Epoch 1/4\n",
      "25000/25000 [==============================] - 0s 17us/step - loss: 0.5456 - acc: 0.7515\n",
      "Epoch 2/4\n",
      "25000/25000 [==============================] - 0s 7us/step - loss: 0.3812 - acc: 0.8462\n",
      "Epoch 3/4\n",
      "25000/25000 [==============================] - 0s 7us/step - loss: 0.3346 - acc: 0.8619\n",
      "Epoch 4/4\n",
      "25000/25000 [==============================] - 0s 8us/step - loss: 0.3178 - acc: 0.8678\n",
      "25000/25000 [==============================] - 0s 15us/step\n",
      "[0.33020073481559753, 0.86072]\n"
     ]
    }
   ],
   "source": [
    "model = models.Sequential()\n",
    "model.add(layers.Dense(16, activation='relu', input_shape=(1000,)))\n",
    "model.add(layers.Dense(16, activation='relu'))\n",
    "model.add(layers.Dense(1, activation='sigmoid'))\n",
    "\n",
    "model.compile(optimizer='rmsprop', loss='binary_crossentropy', metrics=['accuracy'])\n",
    "\n",
    "model.fit(x_train, y_train, epochs=4, batch_size=512)\n",
    "results = model.evaluate(x_test, y_test)\n",
    "print(results)"
   ]
  },
  {
   "cell_type": "code",
   "execution_count": 13,
   "metadata": {},
   "outputs": [
    {
     "name": "stdout",
     "output_type": "stream",
     "text": [
      "(25000, 1)\n"
     ]
    }
   ],
   "source": [
    "prediction = model.predict(x_test)\n",
    "print(prediction.shape)"
   ]
  },
  {
   "cell_type": "code",
   "execution_count": 14,
   "metadata": {},
   "outputs": [
    {
     "data": {
      "text/plain": [
       "[]"
      ]
     },
     "execution_count": 14,
     "metadata": {},
     "output_type": "execute_result"
    }
   ],
   "source": [
    "from keras import backend as K\n",
    "K.tensorflow_backend._get_available_gpus()"
   ]
  },
  {
   "cell_type": "code",
   "execution_count": 15,
   "metadata": {},
   "outputs": [],
   "source": [
    "import tensorflow as tf\n",
    "sess = tf.Session(config=tf.ConfigProto(log_device_placement=True))"
   ]
  },
  {
   "cell_type": "code",
   "execution_count": null,
   "metadata": {},
   "outputs": [],
   "source": []
  }
 ],
 "metadata": {
  "kernelspec": {
   "display_name": "Python 3",
   "language": "python",
   "name": "python3"
  },
  "language_info": {
   "codemirror_mode": {
    "name": "ipython",
    "version": 3
   },
   "file_extension": ".py",
   "mimetype": "text/x-python",
   "name": "python",
   "nbconvert_exporter": "python",
   "pygments_lexer": "ipython3",
   "version": "3.6.5"
  }
 },
 "nbformat": 4,
 "nbformat_minor": 2
}
